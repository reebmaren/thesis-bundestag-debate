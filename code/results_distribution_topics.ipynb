{
 "cells": [
  {
   "cell_type": "markdown",
   "id": "0acbcfb0",
   "metadata": {},
   "source": [
    "### Distribution of topics\n",
    "+ creating data frame from TM composition file"
   ]
  },
  {
   "cell_type": "code",
   "execution_count": null,
   "id": "f87ee38e",
   "metadata": {},
   "outputs": [],
   "source": [
    "import re\n",
    "import pickle\n",
    "import pandas as pd"
   ]
  },
  {
   "cell_type": "code",
   "execution_count": null,
   "id": "dd7425a0",
   "metadata": {},
   "outputs": [],
   "source": [
    "import numpy as np\n",
    "import pandas as pd\n",
    "\n",
    "import matplotlib as mpl\n",
    "import matplotlib.pyplot as plt\n",
    "\n",
    "import seaborn as sns\n",
    "import seaborn.objects as so"
   ]
  },
  {
   "cell_type": "code",
   "execution_count": null,
   "id": "6ed017d1",
   "metadata": {},
   "outputs": [],
   "source": [
    "year_sp = []\n",
    "factionID = []\n",
    "speech_id = []\n",
    "count = 0\n",
    "\n",
    "with open(f'proc_data/topics30_composition.txt', 'r', encoding='UTF-8') as f:\n",
    "    \n",
    "    for line in f:\n",
    "        \n",
    "        data = line.strip().split(\"\\t\")\n",
    "        topics = data[2:]\n",
    "        sp_id = data[1] \n",
    "        \n",
    "        #find position of sp_id\n",
    "        sp_id_index = [i for i, e in enumerate(sp_id) if e == '_']\n",
    "        \n",
    "        #slincing for sp_id\n",
    "        sp_ID = sp_id[sp_id_index[0]+1:sp_id_index[1]]\n",
    "        speech_id.append(sp_ID)\n",
    "        \n",
    "        #find position of year\n",
    "        year_index = [i for i, e in enumerate(sp_id) if e == '/']\n",
    "        \n",
    "        #slicing for year\n",
    "        year = int(sp_id[year_index[7]+1:year_index[8]])\n",
    "        year_sp.append(year)\n",
    "        \n",
    "        #find position of faction id\n",
    "        faction_index = [i for i, e in enumerate(sp_id) if e == '_']\n",
    "        \n",
    "        #slicing for faction id\n",
    "        faction_id = int(sp_id[faction_index[2]+1:-4])\n",
    "        factionID.append(faction_id)\n",
    "        \n",
    "        topics = [float(t) for t in topics]"
   ]
  },
  {
   "cell_type": "markdown",
   "id": "03be314d",
   "metadata": {},
   "source": [
    "+ putting together the data frame "
   ]
  },
  {
   "cell_type": "code",
   "execution_count": null,
   "id": "2a831311",
   "metadata": {},
   "outputs": [],
   "source": [
    "columns = [\"index\", \"filename\"] \n",
    "\n",
    "sum_topics = []\n",
    "\n",
    "for i in range(30):\n",
    "    columns.append(f'topic{i}')\n",
    "    \n",
    "df = pd.read_csv(f'proc_data/topics30_composition.txt', sep=\"\\t\", names=columns)\n",
    "\n",
    "# adding speechID, year and faction\n",
    "#df.insert(loc, column_name, value)\n",
    "df.insert(2, \"speechID\", speech_id)\n",
    "df.insert(3, \"year\", year_sp)\n",
    "df.insert(4, \"faction\", factionID)\n",
    "\n",
    "\n",
    "for i in range(30):\n",
    "    sum_topics.append(sum(df[f'topic{i}']))"
   ]
  },
  {
   "cell_type": "code",
   "execution_count": null,
   "id": "112a5886",
   "metadata": {},
   "outputs": [],
   "source": [
    "df = df.drop(columns=[\"filename\"])"
   ]
  },
  {
   "cell_type": "code",
   "execution_count": null,
   "id": "ab99b261",
   "metadata": {},
   "outputs": [],
   "source": [
    "df"
   ]
  },
  {
   "cell_type": "markdown",
   "id": "324de1d4",
   "metadata": {},
   "source": [
    "### Distribution for all factions\n",
    "+ grouping data by year\n",
    "+ building new index over year (73 years)\n",
    "+ normalizing topic weights\n",
    "+ create data frame with normalized topic weights per year (norm_mean_new)"
   ]
  },
  {
   "cell_type": "code",
   "execution_count": null,
   "id": "cbf374a3",
   "metadata": {},
   "outputs": [],
   "source": [
    "col_names = []\n",
    "for col_name in df.columns:\n",
    "    if 'topic' in col_name:\n",
    "        col_names.append(col_name)\n",
    "norm_weight_year = df.groupby('year')[col_names].sum().reset_index()\n",
    "norm_weight_year[col_names] /= norm_weight_year[col_names].sum()\n",
    "norm_weight_year.columns = ['year'] + [f'{topic}_weighted' for topic in col_names]"
   ]
  },
  {
   "cell_type": "code",
   "execution_count": null,
   "id": "c7929bb2",
   "metadata": {},
   "outputs": [],
   "source": [
    "norm_weight_year"
   ]
  },
  {
   "cell_type": "markdown",
   "id": "296e859c",
   "metadata": {},
   "source": [
    "+ calculate rolling mean\n",
    "+ clear data frame from NA and correct axis years"
   ]
  },
  {
   "cell_type": "code",
   "execution_count": null,
   "id": "b5e9926b",
   "metadata": {},
   "outputs": [],
   "source": [
    "norm_mean = norm_weight_year.rolling(8).mean()"
   ]
  },
  {
   "cell_type": "code",
   "execution_count": null,
   "id": "974cd209",
   "metadata": {},
   "outputs": [],
   "source": [
    "norm_mean_new = norm_mean.dropna(how='all')"
   ]
  },
  {
   "cell_type": "code",
   "execution_count": null,
   "id": "84800027",
   "metadata": {},
   "outputs": [],
   "source": [
    "norm_mean_new['year']+=4"
   ]
  },
  {
   "cell_type": "code",
   "execution_count": null,
   "id": "481b0a01",
   "metadata": {},
   "outputs": [],
   "source": [
    "norm_mean_new"
   ]
  },
  {
   "cell_type": "markdown",
   "id": "412d18f5",
   "metadata": {},
   "source": [
    "### Distribution SPD\n",
    "+ filtering faction 23 (SPD)\n",
    "+ create data frame from df for SPD (norm_mean_SPD_new)"
   ]
  },
  {
   "cell_type": "code",
   "execution_count": null,
   "id": "0c6d5fc6",
   "metadata": {},
   "outputs": [],
   "source": [
    "df['year']+=4"
   ]
  },
  {
   "cell_type": "code",
   "execution_count": null,
   "id": "27c61699",
   "metadata": {},
   "outputs": [],
   "source": [
    "df_SPD = df[(df['faction'] == 23)]"
   ]
  },
  {
   "cell_type": "code",
   "execution_count": null,
   "id": "27e9ef9b",
   "metadata": {},
   "outputs": [],
   "source": [
    "df_SPD"
   ]
  },
  {
   "cell_type": "code",
   "execution_count": null,
   "id": "33bc1ab9",
   "metadata": {},
   "outputs": [],
   "source": [
    "col_names = []\n",
    "for col_name in df.columns:\n",
    "    if 'topic' in col_name:\n",
    "        col_names.append(col_name)\n",
    "norm_weight_SPD = df_SPD.groupby('year')[col_names].sum().reset_index()\n",
    "norm_weight_SPD[col_names] /= norm_weight_SPD[col_names].sum()\n",
    "norm_weight_SPD.columns = ['year'] + [f'{topic}_weighted' for topic in col_names]"
   ]
  },
  {
   "cell_type": "code",
   "execution_count": null,
   "id": "2c0f6e10",
   "metadata": {},
   "outputs": [],
   "source": [
    "norm_weight_SPD"
   ]
  },
  {
   "cell_type": "code",
   "execution_count": null,
   "id": "2c35b470",
   "metadata": {},
   "outputs": [],
   "source": [
    "norm_mean_SPD_new = norm_weight_SPD.rolling(8).mean()"
   ]
  },
  {
   "cell_type": "code",
   "execution_count": null,
   "id": "11b21819",
   "metadata": {},
   "outputs": [],
   "source": [
    "norm_mean_SPD_new = norm_mean_SPD_new.dropna(how='all')"
   ]
  },
  {
   "cell_type": "code",
   "execution_count": null,
   "id": "613512a5",
   "metadata": {},
   "outputs": [],
   "source": [
    "norm_mean_SPD_new = norm_mean_SPD_new.astype({'year': 'int32'})"
   ]
  },
  {
   "cell_type": "code",
   "execution_count": null,
   "id": "73520576",
   "metadata": {},
   "outputs": [],
   "source": [
    "norm_mean_SPD_new['year']+=4"
   ]
  },
  {
   "cell_type": "code",
   "execution_count": null,
   "id": "5e58d0cb",
   "metadata": {},
   "outputs": [],
   "source": [
    "norm_mean_SPD_new"
   ]
  },
  {
   "cell_type": "markdown",
   "id": "e388ef0d",
   "metadata": {},
   "source": [
    "### Distribution CDU/ CSU\n",
    "+ filtering faction 4 (CDU + CSU)\n",
    "+ create data frame from df for CDU + CSU (norm_mean_CDU_new)"
   ]
  },
  {
   "cell_type": "code",
   "execution_count": null,
   "id": "6af6ecd1",
   "metadata": {},
   "outputs": [],
   "source": [
    "df_CDU = df[(df['faction'] == 4)]"
   ]
  },
  {
   "cell_type": "code",
   "execution_count": null,
   "id": "85a64388",
   "metadata": {},
   "outputs": [],
   "source": [
    "col_names = []\n",
    "for col_name in df.columns:\n",
    "    if 'topic' in col_name:\n",
    "        col_names.append(col_name)\n",
    "norm_weight_CDU = df_CDU.groupby('year')[col_names].sum().reset_index()\n",
    "norm_weight_CDU[col_names] /= norm_weight_CDU[col_names].sum()\n",
    "norm_weight_CDU.columns = ['year'] + [f'{topic}_weighted' for topic in col_names]"
   ]
  },
  {
   "cell_type": "code",
   "execution_count": null,
   "id": "2edbff8b",
   "metadata": {},
   "outputs": [],
   "source": [
    "norm_mean_CDU_new = norm_weight_CDU.rolling(8).mean()"
   ]
  },
  {
   "cell_type": "code",
   "execution_count": null,
   "id": "65329cf4",
   "metadata": {},
   "outputs": [],
   "source": [
    "norm_mean_CDU_new = norm_mean_CDU_new.dropna(how='all')"
   ]
  },
  {
   "cell_type": "code",
   "execution_count": null,
   "id": "f429ecee",
   "metadata": {},
   "outputs": [],
   "source": [
    "norm_mean_CDU_new = norm_mean_CDU_new.astype({'year': 'int32'})"
   ]
  },
  {
   "cell_type": "code",
   "execution_count": null,
   "id": "2e158bd3",
   "metadata": {},
   "outputs": [],
   "source": [
    "norm_mean_CDU_new"
   ]
  },
  {
   "cell_type": "markdown",
   "id": "b76a0afc",
   "metadata": {},
   "source": [
    "### Example Plotting\n",
    "+ similar plotting code was used for all graphs"
   ]
  },
  {
   "cell_type": "code",
   "execution_count": null,
   "id": "7ac38f61",
   "metadata": {},
   "outputs": [],
   "source": [
    "f, ax = plt.subplots(1, 1)\n",
    "x_col='year'\n",
    "y_col = 'topic weight'\n",
    "\n",
    "ax.plot(norm_mean_new.year, norm_mean_new[\"topic5_weighted\"], color=\"blue\", label=\"Immigration (5)\", linestyle=\"-\")\n",
    "ax.plot(norm_mean_new.year, norm_mean_new[\"topic21_weighted\"], color=\"orchid\", label=\"German unification (21)\", linestyle=\"-\")\n",
    "ax.plot(norm_mean_new.year, norm_mean_new[\"topic10_weighted\"], color=\"seagreen\", label=\"Legislation (10)\", linestyle=\"-\")\n",
    "ax.plot(norm_mean_new.year, norm_mean_new[\"topic3_weighted\"], color=\"orange\", label=\"Development (3)\", linestyle=\"-\")\n",
    "ax.plot(norm_mean_new.year, norm_mean_new[\"topic27_weighted\"], color=\"grey\", label=\"Law&Order (27)\", linestyle=\"-\")\n",
    "\n",
    "ax.set_ylabel('Topic proportion')\n",
    "ax.set_xlabel('Year')\n",
    "ax.legend()\n",
    "\n",
    "plt.show()"
   ]
  }
 ],
 "metadata": {
  "kernelspec": {
   "display_name": "Python 3 (ipykernel)",
   "language": "python",
   "name": "python3"
  },
  "language_info": {
   "codemirror_mode": {
    "name": "ipython",
    "version": 3
   },
   "file_extension": ".py",
   "mimetype": "text/x-python",
   "name": "python",
   "nbconvert_exporter": "python",
   "pygments_lexer": "ipython3",
   "version": "3.9.12"
  }
 },
 "nbformat": 4,
 "nbformat_minor": 5
}
