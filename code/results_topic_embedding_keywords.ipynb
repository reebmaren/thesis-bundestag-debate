{
 "cells": [
  {
   "cell_type": "code",
   "execution_count": null,
   "id": "2deb5b90",
   "metadata": {},
   "outputs": [],
   "source": [
    "import re\n",
    "import pickle\n",
    "from collections import Counter"
   ]
  },
  {
   "cell_type": "markdown",
   "id": "ddf4059f",
   "metadata": {},
   "source": [
    "### Sorting topic composition file\n",
    "+ filter for 3 topics with highest proportion in descending order"
   ]
  },
  {
   "cell_type": "code",
   "execution_count": null,
   "id": "fd3e49a3",
   "metadata": {},
   "outputs": [],
   "source": [
    "speech_topics = dict() \n",
    "count = 0\n",
    "\n",
    "with open(f'proc_data/topics30_composition.txt', 'r', encoding='UTF-8') as f:\n",
    "    \n",
    "    for line in f:\n",
    "        data = line.strip().split(\"\\t\")\n",
    "        topics = data[2:]\n",
    "  \n",
    "        sp_id = data[1] \n",
    "        \n",
    "        #find position of sp_id\n",
    "        sp_id_index = [i for i, e in enumerate(sp_id) if e == '_']\n",
    "        \n",
    "        #slincing for sp_id\n",
    "        sp_id = sp_id[sp_id_index[0]+1:sp_id_index[1]]\n",
    "        topics = [float(t) for t in topics]\n",
    "        \n",
    "        #returns a sorted list of topics in descending order\n",
    "        topics_ordered = sorted(topics, reverse = True)\n",
    "        topics_3 = [topics.index(topics_ordered[0]), topics.index(topics_ordered[1]), topics.index(topics_ordered[2])]\n",
    "        speech_topics[sp_id] = topics_3"
   ]
  },
  {
   "cell_type": "markdown",
   "id": "d1fb3d56",
   "metadata": {},
   "source": [
    "### Example for output topic embedding keywords\n",
    "+ loop through frequency count file and dict of topics with highest proportion\n",
    "+ append the value (topic) into list"
   ]
  },
  {
   "cell_type": "code",
   "execution_count": null,
   "id": "741bac97",
   "metadata": {},
   "outputs": [],
   "source": [
    "list1_word1 = []\n",
    "\n",
    "test_key_word1 = []\n",
    "with open('proc_data/count_speeches/freq_count.pickle', 'rb') as handle:  \n",
    "\n",
    "    freqcnt = pickle.load(handle)\n",
    "    for key, value in speech_topics.items():\n",
    "        if freqcnt[key]['einwanderung'] != 0:\n",
    "            list1_word1.append(value[0])"
   ]
  },
  {
   "cell_type": "markdown",
   "id": "42005471",
   "metadata": {},
   "source": [
    "+ filter list for semantic topics only"
   ]
  },
  {
   "cell_type": "code",
   "execution_count": null,
   "id": "064d272c",
   "metadata": {},
   "outputs": [],
   "source": [
    "excluded_topics = [2, 11, 13, 15, 22, 26, 6, 9, 24, 28]\n",
    "\n",
    "new_list1_word1 = [x for x in list1_word1 if x not in excluded_topics]"
   ]
  },
  {
   "cell_type": "markdown",
   "id": "7ef9eac4",
   "metadata": {},
   "source": [
    "+ counting the occurrence of the topics"
   ]
  },
  {
   "cell_type": "code",
   "execution_count": null,
   "id": "ebde5244",
   "metadata": {},
   "outputs": [],
   "source": [
    "cnt_new_list1_word1 = Counter(new_list1_word1)\n",
    "print(cnt_new_list1_word1)"
   ]
  },
  {
   "cell_type": "markdown",
   "id": "664a42cf",
   "metadata": {},
   "source": [
    "### Sorting composition file by faction"
   ]
  },
  {
   "cell_type": "code",
   "execution_count": null,
   "id": "9ee31124",
   "metadata": {},
   "outputs": [],
   "source": [
    "count = 0\n",
    "composition_faction = []\n",
    "with open(f'proc_data/topics30_composition.txt', 'r', encoding='UTF-8') as f:\n",
    "    \n",
    "    for line in f:\n",
    "        \n",
    "        data = line.strip().split(\"\\t\")\n",
    "        \n",
    "        filename = data[1]\n",
    "        faction_re = re.split(r\"_\", filename)\n",
    "        fact_id = faction_re[-1][:-4]\n",
    "        \n",
    "        if (fact_id == str(4) or fact_id == str(23)): \n",
    "            composition_faction.append(data)        "
   ]
  },
  {
   "cell_type": "code",
   "execution_count": null,
   "id": "877871ba",
   "metadata": {},
   "outputs": [],
   "source": [
    "with open('proc_data/faction_composition.pickle', 'wb') as handle:  \n",
    "\n",
    "    pickle.dump(composition_faction, handle, protocol=pickle.HIGHEST_PROTOCOL)"
   ]
  },
  {
   "cell_type": "code",
   "execution_count": null,
   "id": "7b4a4d83",
   "metadata": {},
   "outputs": [],
   "source": [
    "speech_topics_SPD = {}\n",
    "speech_topics_CDU = {}\n",
    "count=0\n",
    "with open('proc_data/faction_composition.pickle', 'rb') as handle:  \n",
    "    \n",
    "    comp_fact = pickle.load(handle)\n",
    "    \n",
    "    for line in comp_fact:\n",
    "        topics = line[2:]\n",
    "        sp_id = line[1]\n",
    "        \n",
    "        filename = line[1]\n",
    "        faction_re = re.split(r\"_\", filename)\n",
    "        fact_id = faction_re[-1][:-4]\n",
    "        \n",
    "        #find position of sp_id\n",
    "        sp_id_index = [i for i, e in enumerate(filename) if e == '_']\n",
    "\n",
    "        #slincing for sp_id\n",
    "        sp_id = sp_id[sp_id_index[0]+1:sp_id_index[1]]\n",
    "        topics = [float(t) for t in topics]\n",
    "     \n",
    "        #returns a sorted list of topics in descending order\n",
    "        topics_ordered = sorted(topics, reverse = True)\n",
    "        topics_3 = [topics.index(topics_ordered[0]), topics.index(topics_ordered[1]), topics.index(topics_ordered[2])]\n",
    "        \n",
    "        if (fact_id == str(23)):\n",
    "            speech_topics_SPD[sp_id] = topics_3\n",
    "            \n",
    "        else:\n",
    "            speech_topics_CDU[sp_id] = topics_3"
   ]
  },
  {
   "cell_type": "markdown",
   "id": "d2526966",
   "metadata": {},
   "source": [
    "### Example for output topic embedding keywords by faction\n",
    "+ loop through frequency count file and dict of topics with highest proportion\n",
    "+ append the value (topic) into list"
   ]
  },
  {
   "cell_type": "code",
   "execution_count": null,
   "id": "085e9151",
   "metadata": {},
   "outputs": [],
   "source": [
    "list1_spd1= []\n",
    "\n",
    "with open('proc_data/count_speeches/freq_count.pickle', 'rb') as handle:  \n",
    "\n",
    "    freqcnt = pickle.load(handle)\n",
    "    for key, value in speech_topics_SPD.items():\n",
    "        if freqcnt[key]['einwanderung'] != 0:\n",
    "            list1_spd1.append(value[0])"
   ]
  },
  {
   "cell_type": "code",
   "execution_count": null,
   "id": "ccf2a6d5",
   "metadata": {},
   "outputs": [],
   "source": [
    "excluded_topics = [2, 11, 13, 15, 22, 26, 6, 9, 24, 28]\n",
    "\n",
    "new_list1_spd1 = [x for x in list1_spd1 if x not in excluded_topics]"
   ]
  },
  {
   "cell_type": "code",
   "execution_count": null,
   "id": "287c64ee",
   "metadata": {},
   "outputs": [],
   "source": [
    "cnt_new_list1_spd1 = Counter(new_list1_spd1)"
   ]
  }
 ],
 "metadata": {
  "kernelspec": {
   "display_name": "Python 3 (ipykernel)",
   "language": "python",
   "name": "python3"
  },
  "language_info": {
   "codemirror_mode": {
    "name": "ipython",
    "version": 3
   },
   "file_extension": ".py",
   "mimetype": "text/x-python",
   "name": "python",
   "nbconvert_exporter": "python",
   "pygments_lexer": "ipython3",
   "version": "3.9.12"
  }
 },
 "nbformat": 4,
 "nbformat_minor": 5
}
